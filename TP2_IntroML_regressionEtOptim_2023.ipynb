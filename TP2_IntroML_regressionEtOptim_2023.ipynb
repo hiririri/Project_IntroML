{
  "cells": [
    {
      "cell_type": "markdown",
      "metadata": {
        "id": "6fcZDi-1eOIW"
      },
      "source": [
        "#**TP 2 - Régression linéaire et optimisation**\n",
        "\n",
        "But : implémenter deux stratégies de résolutions de la régression *Linéaire*\n",
        "\n",
        "Cours : M1 MIAGE apprentissage (Dauphine) - 2023-2024"
      ]
    },
    {
      "cell_type": "code",
      "execution_count": 1,
      "metadata": {
        "id": "jCc1i-n6eALg"
      },
      "outputs": [],
      "source": [
        "# libairies utiles pour ce cours\n",
        "\n",
        "# calcul numériques (calculs d'estimateurs)\n",
        "import numpy as np\n",
        "\n",
        "#figures et illustrations\n",
        "import matplotlib.pyplot as plt"
      ]
    },
    {
      "cell_type": "markdown",
      "metadata": {
        "id": "85XzUwbMfPbC"
      },
      "source": [
        "##I Génération de données synthétitiques\n",
        "\n",
        "On fournit du code pour générer des données synthétiques.\n",
        "\n",
        "*   Les observations de la variable $x$ sont échantillonés suivant une loi gaussienne multivariée (avec l'identité comme covariance).\n",
        "*   On échantillonne n =100 observations est en 2 dimensions (stocké dans la matrice $X$).\n",
        "*   On ajoute une colonne constante (valeur 1) dans la matrice $X$.\n",
        "*   On fixe un vecteur $w$, puis on génère le vecteur $y=X \\times w + \\epsilon \\times b$ (avec $b$ un bruit gaussien de moyenne nulle et variance unité) en posant pour l'instant $\\epsilon = 1e-5$ (1pt)\n"
      ]
    },
    {
      "cell_type": "code",
      "execution_count": 2,
      "metadata": {
        "id": "zbBSNQlafOdm"
      },
      "outputs": [],
      "source": [
        "n=100\n",
        "dim=2\n",
        "eps=1e-5 # on pourra faire varier ce chiffre\n",
        "\n",
        "X= np.random.multivariate_normal(np.zeros(dim), np.eye(dim), n)\n",
        "X=np.column_stack((X,np.ones(n)))\n",
        "\n",
        "w = np.array([[3, 2, -1]])\n",
        "y = np.dot(X,w.T) +eps*np.random.normal(size=(n,1))\n"
      ]
    },
    {
      "cell_type": "markdown",
      "metadata": {
        "id": "ByuRru1Pg2yu"
      },
      "source": [
        "Observations :"
      ]
    },
    {
      "cell_type": "markdown",
      "metadata": {
        "id": "UPnrxZakg-kv"
      },
      "source": [
        "## II Première méthode de calcul (formule explicite)\n",
        "\n",
        "1.  En se souvenant que que $w^*= (X^\\top X)^{-1}X^\\top y$, on calcule l'estimateur $\\hat{w}$.\n",
        "2.  Calculer l'écart $||w -\\hat{w}||_2$ (on pourrait aussi regarder l'erreur quadratique moyenne des prédictions du modèle)"
      ]
    },
    {
      "cell_type": "code",
      "execution_count": 4,
      "metadata": {
        "id": "GbTs9GAwg-Lk"
      },
      "outputs": [
        {
          "name": "stdout",
          "output_type": "stream",
          "text": [
            "[[ 2.99999911]\n",
            " [ 1.99999952]\n",
            " [-0.99999968]]\n"
          ]
        }
      ],
      "source": [
        "#calcul de w chapeau\n",
        "what = np.dot(np.linalg.inv(np.dot(X.T,X)),np.dot(X.T,y))\n",
        "print(what)"
      ]
    },
    {
      "cell_type": "code",
      "execution_count": 6,
      "metadata": {
        "id": "DY42ht_JhimH"
      },
      "outputs": [
        {
          "name": "stdout",
          "output_type": "stream",
          "text": [
            "7.211101494741914\n"
          ]
        }
      ],
      "source": [
        "# calcul de l'ecart entre what et w\n",
        "ecart = np.linalg.norm(what-w)\n",
        "print(ecart)"
      ]
    },
    {
      "cell_type": "markdown",
      "metadata": {
        "id": "KgdIxWyBiCAn"
      },
      "source": [
        "## II Deuxième méthode de calcul (descente de gradient)\n",
        "\n",
        "1.  Estimater $\\hat{w}$ en appliquant une descente de gradient à pas fixe.\n",
        "2.  Calcul l'écart $|| w - \\hat{w}||_2$\n",
        "3.  Tracer l'évolution de la fonction coût au fil des itérations ? (erreur quadratique)\n",
        "4.  Comparer cette méthode à la méthode précédente."
      ]
    },
    {
      "cell_type": "code",
      "execution_count": 23,
      "metadata": {
        "id": "RBbv4x0AiZTA"
      },
      "outputs": [
        {
          "name": "stdout",
          "output_type": "stream",
          "text": [
            "init (3, 1)\n",
            "init (100, 3)\n",
            "diff iterate\n",
            "129\n",
            "[[ 2.99999911]\n",
            " [ 1.99999952]\n",
            " [-0.99999968]]\n",
            "9.515244924833758e-09\n"
          ]
        },
        {
          "data": {
            "image/png": "[encoded data removed]",
            "text/plain": [
              "<Figure size 640x480 with 1 Axes>"
            ]
          },
          "metadata": {},
          "output_type": "display_data"
        }
      ],
      "source": [
        "# squelette du code de descente de gradient\n",
        "# Modifier le calcul du gradient et de la fonction de cout\n",
        "\n",
        "import math\n",
        "\n",
        "\n",
        "itermax = 10000  # nombre d'itérations maximum\n",
        "i = 1\n",
        "notconv = True  # critere de convergence\n",
        "\n",
        "eta = 1e-3  # pas de la descente de gradient\n",
        "\n",
        "wi = np.random.normal(size=(dim+1, 1))  # initialisation aléatoire de wi\n",
        "print(\"init\", wi.shape)\n",
        "print(\"init\", X.shape)\n",
        "\n",
        "loss = []  # calcul de la fonction cout à chaque iteration\n",
        "lold = np.inf\n",
        "while (i <= itermax) and (notconv):\n",
        "    wold = wi\n",
        "    # calcul du gradient /!\\ A MODIFIER /!\\\n",
        "    # grad = 2 * np.dot(X.T, np.dot(X, wi)-y)\n",
        "    grad = -2 * X.T@y + 2 * X.T@X@wi\n",
        "    wi = wold-eta*grad  # mise à jour de l'itéré courant\n",
        "    \n",
        "    # calcul de la fonctione de perte /!\\ A MODIFIER /!\\\n",
        "    li = np.linalg.norm(y-X@wi)**2\n",
        "\n",
        "    loss.append(li)\n",
        "\n",
        "    if np.linalg.norm(wold-wi) < 1e-10:  # critère d'arrêt 1\n",
        "        notconv = False\n",
        "        print(\"diff iterate\")\n",
        "\n",
        "    if li > lold:  # critère d'arrêt 2\n",
        "        notconv = False\n",
        "        print(\"rising loss\")\n",
        "\n",
        "    i += 1\n",
        "    lold = li\n",
        "\n",
        "\n",
        "print(i)  # dernière itération\n",
        "plt.plot(loss)  # affichage de la perte (au fur et a mesure des des itérations)\n",
        "print(wi)  # paramètre de l'hyperplan appris par la méthode\n",
        "print(loss[-1])  # valeur de l'erreur à la fin de l'algorithme"
      ]
    },
    {
      "cell_type": "markdown",
      "metadata": {
        "id": "DkoRG4X5odrd"
      },
      "source": [
        "Observations :"
      ]
    },
    {
      "cell_type": "markdown",
      "metadata": {
        "id": "N5WQnUATle9f"
      },
      "source": [
        "## III Pour aller plus loin\n",
        "\n",
        "1. Proposer comment valider les algorithmes.\n",
        "2. Ajouter des outliers pour voir la sensibilité des méthodes.\n",
        "3. Valider la généricité de votre code en l'appliquant sur un autre jeu de données (de votre choix et potentiellement synthétique) de plus grande dimension.\n",
        "4. Evaluer la sensibilité des approches au niveau du bruit $\\epsilon$\n",
        "\n"
      ]
    },
    {
      "cell_type": "code",
      "execution_count": null,
      "metadata": {
        "id": "59qLEtgLkVLk"
      },
      "outputs": [],
      "source": []
    }
  ],
  "metadata": {
    "colab": {
      "provenance": []
    },
    "kernelspec": {
      "display_name": "Python 3",
      "name": "python3"
    },
    "language_info": {
      "codemirror_mode": {
        "name": "ipython",
        "version": 3
      },
      "file_extension": ".py",
      "mimetype": "text/x-python",
      "name": "python",
      "nbconvert_exporter": "python",
      "pygments_lexer": "ipython3",
      "version": "3.9.2"
    }
  },
  "nbformat": 4,
  "nbformat_minor": 0
}
